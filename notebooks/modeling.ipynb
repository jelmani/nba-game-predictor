{
 "cells": [
  {
   "cell_type": "code",
   "execution_count": 118,
   "id": "d8df61b7-283c-42e3-afdc-951645097591",
   "metadata": {},
   "outputs": [],
   "source": [
    "import numpy as np\n",
    "import pandas as pd\n",
    "import matplotlib.pyplot as plt\n",
    "from sklearn.linear_model import LogisticRegression\n",
    "from sklearn import metrics"
   ]
  },
  {
   "cell_type": "code",
   "execution_count": 253,
   "id": "0541bf1f-9d66-4bd7-90fe-0b51e3ccffb3",
   "metadata": {},
   "outputs": [],
   "source": [
    "def get_x_y_from_csv(x_csv, y_csv):\n",
    "    return pd.read_csv(x_csv).to_numpy(), pd.read_csv(y_csv).to_numpy().reshape(-1,)\n",
    "\n",
    "X_train, y_train = get_x_y_from_csv(\"x_train.csv\", \"y_train.csv\")"
   ]
  },
  {
   "cell_type": "code",
   "execution_count": 7,
   "id": "de7ac6f4-e88b-4fa4-80aa-d55d21085e83",
   "metadata": {},
   "outputs": [],
   "source": [
    "def sigmoid(z):\n",
    "    \"\"\"\n",
    "    Compute the sigmoid of z\n",
    "\n",
    "    Args:\n",
    "        z (ndarray): A scalar, numpy array of any size.\n",
    "\n",
    "    Returns:\n",
    "        g (ndarray): sigmoid(z), with the same shape as z\n",
    "         \n",
    "    \"\"\"\n",
    "\n",
    "    g = 1/(1+np.exp(-z))\n",
    "   \n",
    "    return g"
   ]
  },
  {
   "cell_type": "code",
   "execution_count": 48,
   "id": "a7ca9185-8ff1-4a0e-b16f-adda9e27a079",
   "metadata": {},
   "outputs": [],
   "source": [
    "def compute_model_output(X, w, b):\n",
    "    # print(f\"model output shape: {sigmoid((np.dot(X, w) + b)).shape}\")\n",
    "    return sigmoid((np.dot(X, w) + b))"
   ]
  },
  {
   "cell_type": "code",
   "execution_count": 52,
   "id": "9f5e3dd0-2049-4b9b-b941-396d4f76fe64",
   "metadata": {},
   "outputs": [],
   "source": [
    "def compute_cost(X, w, b, y_target, lambda_):\n",
    "    f_wb = compute_model_output(X, w, b)\n",
    "    loss = -y_target*np.log(f_wb) - (1 - y_target) * np.log(1 - f_wb) + (lambda_ / (2 * len(X))) * np.sum(w ** 2)\n",
    "    return np.mean(loss)"
   ]
  },
  {
   "cell_type": "code",
   "execution_count": 45,
   "id": "40e455a0-4838-42be-9852-4924839c8fe2",
   "metadata": {},
   "outputs": [],
   "source": [
    "def compute_gradient(X, y_target, w, b, lambda_):\n",
    "    # print(f\"model output dot x shape: {np.dot((compute_model_output(X, w, b) - y_target), X).shape}\")\n",
    "    dj_dw = (np.dot((compute_model_output(X, w, b) - y_target), X) / len(X)) + ((lambda_ / len(X)) * w)\n",
    "    # print(f\"dj_dw shape: {dj_dw.shape}\")\n",
    "    dj_db = np.mean((compute_model_output(X, w, b) - y_target))\n",
    "    return (dj_dw, dj_db)"
   ]
  },
  {
   "cell_type": "code",
   "execution_count": 50,
   "id": "27f60bae-678b-4cfc-ba38-d45016d4d806",
   "metadata": {},
   "outputs": [],
   "source": [
    "def compute_gradient_descent(X, y_target, alpha, lambda_, iterations):\n",
    "    w = np.zeros(X.shape[1])\n",
    "    # print(f\"x shape: {X.shape}\")\n",
    "    b = 0\n",
    "    cost_history = []\n",
    "    for _ in range(iterations):\n",
    "        # print(f\"gradients: {compute_gradient(X, y_target, w, b, lambda_)}\")\n",
    "        dj_dw, dj_db = compute_gradient(X, y_target, w, b, lambda_)\n",
    "        w -= alpha * dj_dw\n",
    "        b -= alpha * dj_db\n",
    "        cost_history.append(compute_cost(X, w, b, y_target, lambda_))\n",
    "    # Graph the learning curve\n",
    "    plt.plot(np.arange(iterations), cost_history)\n",
    "    plt.xlabel('Iterations')\n",
    "    plt.ylabel('J(w,b)')\n",
    "    plt.title('Learning Curve')\n",
    "    plt.show()\n",
    "    return w, b"
   ]
  },
  {
   "cell_type": "code",
   "execution_count": 13,
   "id": "39fa0b4e-7ef8-4ef5-a981-a35b6f51626b",
   "metadata": {},
   "outputs": [],
   "source": [
    "def get_scaled_matrix(X):\n",
    "    mean_x = np.mean(X, axis=0)\n",
    "    std_x = np.std(X, axis=0)\n",
    "    scaled_X = (X - mean_x) / std_x\n",
    "    return scaled_X"
   ]
  },
  {
   "cell_type": "code",
   "execution_count": 240,
   "id": "168ac223-0557-448a-adfd-af759d099f84",
   "metadata": {},
   "outputs": [],
   "source": [
    "delta_X_train = pd.read_csv(\"stat_delta_x_train.csv\").to_numpy()"
   ]
  },
  {
   "cell_type": "code",
   "execution_count": 254,
   "id": "1cfc79ab-6cc2-405f-aa22-4cbea2e2168d",
   "metadata": {},
   "outputs": [],
   "source": [
    "X_val, y_val = get_x_y_from_csv(\"x_val_set.csv\", \"y_val_set.csv\")"
   ]
  },
  {
   "cell_type": "code",
   "execution_count": 255,
   "id": "dd2be0a1-d673-4d8e-afe2-a0abf977da25",
   "metadata": {},
   "outputs": [],
   "source": [
    "delta_X_val = pd.read_csv(\"stat_delta_x_val.csv\").to_numpy()"
   ]
  },
  {
   "cell_type": "code",
   "execution_count": 261,
   "id": "30aba846-e023-4f9f-b623-fb7e9424aa86",
   "metadata": {},
   "outputs": [],
   "source": [
    "def train_log_regression(X):\n",
    "    lambda_ = 2\n",
    "    iterations = 500\n",
    "    alpha = 0.05\n",
    "    w, b = compute_gradient_descent(get_scaled_matrix(X), y_train, alpha, lambda_, iterations)\n",
    "    return w, b"
   ]
  },
  {
   "cell_type": "code",
   "execution_count": 272,
   "id": "034c6970-96d5-4b50-a5b3-62704d77dd9d",
   "metadata": {},
   "outputs": [],
   "source": [
    "def print_evaluation(y_test, y_pred):\n",
    "    print('----------------------------------')\n",
    "\n",
    "    print(\"Accuracy:\", metrics.accuracy_score(y_test, y_pred))\n",
    "    print(\"Precision:\", metrics.precision_score(y_test, y_pred))\n",
    "    print(\"Recall:\", metrics.recall_score(y_test, y_pred))\n",
    "    \n",
    "    print('----------------------------------')\n",
    "    confusionMatrix = metrics.confusion_matrix(y_test, y_pred)\n",
    "    print('Confusion Matrix:')\n",
    "    print(confusionMatrix)"
   ]
  },
  {
   "cell_type": "code",
   "execution_count": 276,
   "id": "8cddd2d1-6aa2-4cf3-a734-5b8db0e6a0c7",
   "metadata": {},
   "outputs": [],
   "source": [
    "def test_model(X, y_test):\n",
    "    y_pred = compute_model_output(get_scaled_matrix(X), w, b)\n",
    "    y_pred = y_pred.round()\n",
    "    print_evaluation(y_test, y_pred)\n"
   ]
  },
  {
   "cell_type": "code",
   "execution_count": 277,
   "id": "96fabdaf-1e80-4795-888f-c3e88ceefc8b",
   "metadata": {},
   "outputs": [
    {
     "data": {
      "image/png": "[encoded data removed]",
      "text/plain": [
       "<Figure size 640x480 with 1 Axes>"
      ]
     },
     "metadata": {},
     "output_type": "display_data"
    }
   ],
   "source": [
    "w, b = train_log_regression(delta_X_train)"
   ]
  },
  {
   "cell_type": "code",
   "execution_count": 278,
   "id": "cb59f2a3-6aa1-4a43-94c2-90647f1ee9f6",
   "metadata": {},
   "outputs": [
    {
     "name": "stdout",
     "output_type": "stream",
     "text": [
      "----------------------------------\n",
      "Accuracy: 0.6374795417348609\n",
      "Precision: 0.6451990632318502\n",
      "Recall: 0.7973950795947902\n",
      "----------------------------------\n",
      "Confusion Matrix:\n",
      "[[228 303]\n",
      " [140 551]]\n"
     ]
    }
   ],
   "source": [
    "test_model(delta_X_val, y_val)"
   ]
  },
  {
   "cell_type": "code",
   "execution_count": 279,
   "id": "db98d429-3128-478b-ace8-1349d16505c8",
   "metadata": {},
   "outputs": [],
   "source": [
    "# Use sklearn to test and compare my model\n",
    "logreg = LogisticRegression()\n",
    "\n",
    "logreg.fit(get_scaled_matrix(delta_X_train), y_train)\n",
    "\n",
    "sk_y_pred = logreg.predict(get_scaled_matrix(delta_X_val))"
   ]
  },
  {
   "cell_type": "code",
   "execution_count": 280,
   "id": "f2d0443d-c744-449f-809e-ba7e49d7c039",
   "metadata": {},
   "outputs": [
    {
     "name": "stdout",
     "output_type": "stream",
     "text": [
      "----------------------------------\n",
      "Accuracy: 0.6358428805237316\n",
      "Precision: 0.6443661971830986\n",
      "Recall: 0.7945007235890015\n",
      "----------------------------------\n",
      "Confusion Matrix:\n",
      "[[228 303]\n",
      " [142 549]]\n"
     ]
    }
   ],
   "source": [
    "print_evaluation(y_val, sk_y_pred)"
   ]
  },
  {
   "cell_type": "code",
   "execution_count": 281,
   "id": "22d91297-9105-47a2-9deb-d65aeea8b83b",
   "metadata": {},
   "outputs": [
    {
     "data": {
      "text/plain": [
       "np.float64(0.6374795417348609)"
      ]
     },
     "execution_count": 281,
     "metadata": {},
     "output_type": "execute_result"
    }
   ],
   "source": [
    "np.count_nonzero((my_y_pred.round() == y_val).astype(int)) / y_val.shape[0]"
   ]
  },
  {
   "cell_type": "code",
   "execution_count": null,
   "id": "2e3f6327-2a8d-4b26-98ff-3082d23b6839",
   "metadata": {},
   "outputs": [],
   "source": []
  }
 ],
 "metadata": {
  "kernelspec": {
   "display_name": "Python 3 (ipykernel)",
   "language": "python",
   "name": "python3"
  },
  "language_info": {
   "codemirror_mode": {
    "name": "ipython",
    "version": 3
   },
   "file_extension": ".py",
   "mimetype": "text/x-python",
   "name": "python",
   "nbconvert_exporter": "python",
   "pygments_lexer": "ipython3",
   "version": "3.13.7"
  }
 },
 "nbformat": 4,
 "nbformat_minor": 5
}
