{
 "cells": [
  {
   "cell_type": "code",
   "execution_count": 1,
   "id": "d8df61b7-283c-42e3-afdc-951645097591",
   "metadata": {},
   "outputs": [],
   "source": [
    "import numpy as np\n",
    "import pandas as pd\n",
    "import matplotlib.pyplot as plt\n",
    "from sklearn.linear_model import LogisticRegression\n",
    "from sklearn import metrics\n",
    "from feature_extractor import FeatureExtractor"
   ]
  },
  {
   "cell_type": "code",
   "execution_count": 2,
   "id": "0541bf1f-9d66-4bd7-90fe-0b51e3ccffb3",
   "metadata": {},
   "outputs": [],
   "source": [
    "def get_x_y_from_csv(x_csv, y_csv):\n",
    "    return pd.read_csv(x_csv).to_numpy(), pd.read_csv(y_csv).to_numpy().reshape(-1,)\n",
    "\n",
    "X_train, y_train = get_x_y_from_csv(\"x_train.csv\", \"y_train.csv\")"
   ]
  },
  {
   "cell_type": "code",
   "execution_count": 3,
   "id": "de7ac6f4-e88b-4fa4-80aa-d55d21085e83",
   "metadata": {},
   "outputs": [],
   "source": [
    "def sigmoid(z):\n",
    "    \"\"\"\n",
    "    Compute the sigmoid of z\n",
    "\n",
    "    Args:\n",
    "        z (ndarray): A scalar, numpy array of any size.\n",
    "\n",
    "    Returns:\n",
    "        g (ndarray): sigmoid(z), with the same shape as z\n",
    "         \n",
    "    \"\"\"\n",
    "\n",
    "    g = 1/(1+np.exp(-z))\n",
    "   \n",
    "    return g"
   ]
  },
  {
   "cell_type": "code",
   "execution_count": 4,
   "id": "a7ca9185-8ff1-4a0e-b16f-adda9e27a079",
   "metadata": {},
   "outputs": [],
   "source": [
    "def compute_model_output(X, w, b):\n",
    "    # print(f\"model output shape: {sigmoid((np.dot(X, w) + b)).shape}\")\n",
    "    return sigmoid((np.dot(X, w) + b))"
   ]
  },
  {
   "cell_type": "code",
   "execution_count": 5,
   "id": "9f5e3dd0-2049-4b9b-b941-396d4f76fe64",
   "metadata": {},
   "outputs": [],
   "source": [
    "def compute_cost(X, w, b, y_target, lambda_):\n",
    "    f_wb = compute_model_output(X, w, b)\n",
    "    loss = -y_target*np.log(f_wb) - (1 - y_target) * np.log(1 - f_wb) + (lambda_ / (2 * len(X))) * np.sum(w ** 2)\n",
    "    return np.mean(loss)"
   ]
  },
  {
   "cell_type": "code",
   "execution_count": 6,
   "id": "40e455a0-4838-42be-9852-4924839c8fe2",
   "metadata": {},
   "outputs": [],
   "source": [
    "def compute_gradient(X, y_target, w, b, lambda_):\n",
    "    # print(f\"model output dot x shape: {np.dot((compute_model_output(X, w, b) - y_target), X).shape}\")\n",
    "    dj_dw = (np.dot((compute_model_output(X, w, b) - y_target), X) / len(X)) + ((lambda_ / len(X)) * w)\n",
    "    # print(f\"dj_dw shape: {dj_dw.shape}\")\n",
    "    dj_db = np.mean((compute_model_output(X, w, b) - y_target))\n",
    "    return (dj_dw, dj_db)"
   ]
  },
  {
   "cell_type": "code",
   "execution_count": 7,
   "id": "27f60bae-678b-4cfc-ba38-d45016d4d806",
   "metadata": {},
   "outputs": [],
   "source": [
    "def compute_gradient_descent(X, y_target, alpha, lambda_, iterations):\n",
    "    w = np.zeros(X.shape[1])\n",
    "    # print(f\"x shape: {X.shape}\")\n",
    "    b = 0\n",
    "    cost_history = []\n",
    "    for _ in range(iterations):\n",
    "        # print(f\"gradients: {compute_gradient(X, y_target, w, b, lambda_)}\")\n",
    "        dj_dw, dj_db = compute_gradient(X, y_target, w, b, lambda_)\n",
    "        w -= alpha * dj_dw\n",
    "        b -= alpha * dj_db\n",
    "        cost_history.append(compute_cost(X, w, b, y_target, lambda_))\n",
    "    # Graph the learning curve\n",
    "    plt.plot(np.arange(iterations), cost_history)\n",
    "    plt.xlabel('Iterations')\n",
    "    plt.ylabel('J(w,b)')\n",
    "    plt.title('Learning Curve')\n",
    "    plt.show()\n",
    "    return w, b"
   ]
  },
  {
   "cell_type": "code",
   "execution_count": 8,
   "id": "39fa0b4e-7ef8-4ef5-a981-a35b6f51626b",
   "metadata": {},
   "outputs": [],
   "source": [
    "def get_scaled_matrix(X):\n",
    "    mean_x = np.mean(X, axis=0)\n",
    "    std_x = np.std(X, axis=0)\n",
    "    scaled_X = (X - mean_x) / std_x\n",
    "    return scaled_X"
   ]
  },
  {
   "cell_type": "code",
   "execution_count": 240,
   "id": "168ac223-0557-448a-adfd-af759d099f84",
   "metadata": {},
   "outputs": [],
   "source": [
    "delta_X_train = pd.read_csv(\"stat_delta_x_train.csv\").to_numpy()"
   ]
  },
  {
   "cell_type": "code",
   "execution_count": 254,
   "id": "1cfc79ab-6cc2-405f-aa22-4cbea2e2168d",
   "metadata": {},
   "outputs": [],
   "source": [
    "X_val, y_val = get_x_y_from_csv(\"x_val_set.csv\", \"y_val_set.csv\")"
   ]
  },
  {
   "cell_type": "code",
   "execution_count": 255,
   "id": "dd2be0a1-d673-4d8e-afe2-a0abf977da25",
   "metadata": {},
   "outputs": [],
   "source": [
    "delta_X_val = pd.read_csv(\"stat_delta_x_val.csv\").to_numpy()"
   ]
  },
  {
   "cell_type": "code",
   "execution_count": 71,
   "id": "30aba846-e023-4f9f-b623-fb7e9424aa86",
   "metadata": {},
   "outputs": [],
   "source": [
    "def train_log_regression(X):\n",
    "    lambda_ = 30\n",
    "    iterations = 500\n",
    "    alpha = 0.05\n",
    "    w, b = compute_gradient_descent(get_scaled_matrix(X), y_train, alpha, lambda_, iterations)\n",
    "    return w, b"
   ]
  },
  {
   "cell_type": "code",
   "execution_count": 10,
   "id": "034c6970-96d5-4b50-a5b3-62704d77dd9d",
   "metadata": {},
   "outputs": [],
   "source": [
    "def print_evaluation(y_test, y_pred):\n",
    "    print('----------------------------------')\n",
    "\n",
    "    print(\"Accuracy:\", metrics.accuracy_score(y_test, y_pred))\n",
    "    print(\"Precision:\", metrics.precision_score(y_test, y_pred))\n",
    "    print(\"Recall:\", metrics.recall_score(y_test, y_pred))\n",
    "    \n",
    "    print('----------------------------------')\n",
    "    confusionMatrix = metrics.confusion_matrix(y_test, y_pred)\n",
    "    print('Confusion Matrix:')\n",
    "    print(confusionMatrix)"
   ]
  },
  {
   "cell_type": "code",
   "execution_count": 11,
   "id": "8cddd2d1-6aa2-4cf3-a734-5b8db0e6a0c7",
   "metadata": {},
   "outputs": [],
   "source": [
    "def test_model(X, y_test):\n",
    "    y_pred = compute_model_output(get_scaled_matrix(X), w, b)\n",
    "    y_pred = y_pred.round()\n",
    "    print_evaluation(y_test, y_pred)\n"
   ]
  },
  {
   "cell_type": "code",
   "execution_count": 279,
   "id": "db98d429-3128-478b-ace8-1349d16505c8",
   "metadata": {},
   "outputs": [],
   "source": [
    "# Use sklearn to test and compare my model\n",
    "logreg = LogisticRegression()\n",
    "\n",
    "logreg.fit(get_scaled_matrix(delta_X_train), y_train)\n",
    "\n",
    "sk_y_pred = logreg.predict(get_scaled_matrix(delta_X_val))"
   ]
  },
  {
   "cell_type": "code",
   "execution_count": 280,
   "id": "f2d0443d-c744-449f-809e-ba7e49d7c039",
   "metadata": {},
   "outputs": [
    {
     "name": "stdout",
     "output_type": "stream",
     "text": [
      "----------------------------------\n",
      "Accuracy: 0.6358428805237316\n",
      "Precision: 0.6443661971830986\n",
      "Recall: 0.7945007235890015\n",
      "----------------------------------\n",
      "Confusion Matrix:\n",
      "[[228 303]\n",
      " [142 549]]\n"
     ]
    }
   ],
   "source": [
    "print_evaluation(y_val, sk_y_pred)"
   ]
  },
  {
   "cell_type": "code",
   "execution_count": 74,
   "id": "22d91297-9105-47a2-9deb-d65aeea8b83b",
   "metadata": {},
   "outputs": [
    {
     "data": {
      "text/plain": [
       "np.float64(0.6415362731152204)"
      ]
     },
     "execution_count": 74,
     "metadata": {},
     "output_type": "execute_result"
    }
   ],
   "source": [
    "np.count_nonzero((compute_model_output(X_test.to_numpy(), w, b).round() == y_test).astype(int)) / y_test.shape[0]"
   ]
  },
  {
   "cell_type": "code",
   "execution_count": 62,
   "id": "2e3f6327-2a8d-4b26-98ff-3082d23b6839",
   "metadata": {},
   "outputs": [],
   "source": [
    "fx = FeatureExtractor(\"nba_games_processed.csv\")\n",
    "fx.build()\n",
    "X_train, y_train = fx.get_train(use_delta_stats=True, train_end=\"2024\")\n",
    "X_test, y_test = fx.get_test(use_delta_stats=True, start=\"2024\", end=\"2026\")"
   ]
  },
  {
   "cell_type": "code",
   "execution_count": 72,
   "id": "5bd65f82-7991-49b0-8a7c-2b6e87109247",
   "metadata": {},
   "outputs": [
    {
     "data": {
      "image/png": "[encoded data removed]",
      "text/plain": [
       "<Figure size 640x480 with 1 Axes>"
      ]
     },
     "metadata": {},
     "output_type": "display_data"
    }
   ],
   "source": [
    "w, b = train_log_regression(X_train.to_numpy())"
   ]
  },
  {
   "cell_type": "code",
   "execution_count": 73,
   "id": "016b9ee8-4da4-4bf5-bc26-35885bdc91f8",
   "metadata": {},
   "outputs": [
    {
     "name": "stdout",
     "output_type": "stream",
     "text": [
      "----------------------------------\n",
      "Accuracy: 0.6401137980085349\n",
      "Precision: 0.6326102169349195\n",
      "Recall: 0.7943760984182777\n",
      "----------------------------------\n",
      "Confusion Matrix:\n",
      "[[446 525]\n",
      " [234 904]]\n"
     ]
    }
   ],
   "source": [
    "test_model(X_test.to_numpy(), y_test.to_numpy())"
   ]
  },
  {
   "cell_type": "code",
   "execution_count": 13,
   "id": "103182b4-64f7-49d9-a42a-8ac8475ce655",
   "metadata": {},
   "outputs": [
    {
     "data": {
      "text/html": [
       "<div>\n",
       "<style scoped>\n",
       "    .dataframe tbody tr th:only-of-type {\n",
       "        vertical-align: middle;\n",
       "    }\n",
       "\n",
       "    .dataframe tbody tr th {\n",
       "        vertical-align: top;\n",
       "    }\n",
       "\n",
       "    .dataframe thead th {\n",
       "        text-align: right;\n",
       "    }\n",
       "</style>\n",
       "<table border=\"1\" class=\"dataframe\">\n",
       "  <thead>\n",
       "    <tr style=\"text-align: right;\">\n",
       "      <th></th>\n",
       "      <th>DELTA_poss_S2D</th>\n",
       "      <th>DELTA_ortg_S2D</th>\n",
       "      <th>DELTA_drtg_S2D</th>\n",
       "      <th>DELTA_eFG_S2D</th>\n",
       "      <th>DELTA_tovr_S2D</th>\n",
       "      <th>DELTA_orb%_S2D</th>\n",
       "      <th>DELTA_ftr_S2D</th>\n",
       "      <th>DELTA_pace_S2D</th>\n",
       "      <th>DELTA_p_m_S2D</th>\n",
       "    </tr>\n",
       "  </thead>\n",
       "  <tbody>\n",
       "    <tr>\n",
       "      <th>8</th>\n",
       "      <td>1.560000</td>\n",
       "      <td>-21.535866</td>\n",
       "      <td>9.961797</td>\n",
       "      <td>-0.016809</td>\n",
       "      <td>0.027086</td>\n",
       "      <td>-0.082333</td>\n",
       "      <td>-0.279787</td>\n",
       "      <td>2.416529</td>\n",
       "      <td>-31.000000</td>\n",
       "    </tr>\n",
       "    <tr>\n",
       "      <th>16</th>\n",
       "      <td>-7.880000</td>\n",
       "      <td>0.736588</td>\n",
       "      <td>17.142577</td>\n",
       "      <td>0.001051</td>\n",
       "      <td>0.055122</td>\n",
       "      <td>0.167442</td>\n",
       "      <td>-0.014010</td>\n",
       "      <td>-8.304937</td>\n",
       "      <td>-18.000000</td>\n",
       "    </tr>\n",
       "    <tr>\n",
       "      <th>17</th>\n",
       "      <td>4.080000</td>\n",
       "      <td>-4.251119</td>\n",
       "      <td>-3.438613</td>\n",
       "      <td>-0.028736</td>\n",
       "      <td>0.071191</td>\n",
       "      <td>0.159091</td>\n",
       "      <td>0.080460</td>\n",
       "      <td>4.948086</td>\n",
       "      <td>0.000000</td>\n",
       "    </tr>\n",
       "    <tr>\n",
       "      <th>18</th>\n",
       "      <td>-9.640000</td>\n",
       "      <td>19.817773</td>\n",
       "      <td>25.589292</td>\n",
       "      <td>0.115334</td>\n",
       "      <td>0.040388</td>\n",
       "      <td>0.118338</td>\n",
       "      <td>-0.047672</td>\n",
       "      <td>-8.776529</td>\n",
       "      <td>-12.000000</td>\n",
       "    </tr>\n",
       "    <tr>\n",
       "      <th>19</th>\n",
       "      <td>-1.140000</td>\n",
       "      <td>20.266283</td>\n",
       "      <td>17.204292</td>\n",
       "      <td>0.108927</td>\n",
       "      <td>0.025839</td>\n",
       "      <td>0.033613</td>\n",
       "      <td>0.087154</td>\n",
       "      <td>-1.545610</td>\n",
       "      <td>5.000000</td>\n",
       "    </tr>\n",
       "    <tr>\n",
       "      <th>...</th>\n",
       "      <td>...</td>\n",
       "      <td>...</td>\n",
       "      <td>...</td>\n",
       "      <td>...</td>\n",
       "      <td>...</td>\n",
       "      <td>...</td>\n",
       "      <td>...</td>\n",
       "      <td>...</td>\n",
       "      <td>...</td>\n",
       "    </tr>\n",
       "    <tr>\n",
       "      <th>4975</th>\n",
       "      <td>-1.471894</td>\n",
       "      <td>2.916886</td>\n",
       "      <td>-0.151672</td>\n",
       "      <td>-0.001563</td>\n",
       "      <td>-0.002128</td>\n",
       "      <td>0.041559</td>\n",
       "      <td>0.018097</td>\n",
       "      <td>-1.266775</td>\n",
       "      <td>2.347538</td>\n",
       "    </tr>\n",
       "    <tr>\n",
       "      <th>4976</th>\n",
       "      <td>4.083871</td>\n",
       "      <td>-12.986278</td>\n",
       "      <td>7.289274</td>\n",
       "      <td>-0.044535</td>\n",
       "      <td>0.019895</td>\n",
       "      <td>-0.036212</td>\n",
       "      <td>-0.027972</td>\n",
       "      <td>4.740493</td>\n",
       "      <td>-21.096774</td>\n",
       "    </tr>\n",
       "    <tr>\n",
       "      <th>4977</th>\n",
       "      <td>-1.038710</td>\n",
       "      <td>3.862926</td>\n",
       "      <td>5.665742</td>\n",
       "      <td>0.018077</td>\n",
       "      <td>0.004013</td>\n",
       "      <td>0.009336</td>\n",
       "      <td>-0.007807</td>\n",
       "      <td>-2.275476</td>\n",
       "      <td>-1.483871</td>\n",
       "    </tr>\n",
       "    <tr>\n",
       "      <th>4978</th>\n",
       "      <td>-0.145462</td>\n",
       "      <td>-9.662786</td>\n",
       "      <td>-3.966993</td>\n",
       "      <td>-0.046681</td>\n",
       "      <td>0.013828</td>\n",
       "      <td>-0.007342</td>\n",
       "      <td>-0.024566</td>\n",
       "      <td>-0.138199</td>\n",
       "      <td>-6.082581</td>\n",
       "    </tr>\n",
       "    <tr>\n",
       "      <th>4979</th>\n",
       "      <td>2.130667</td>\n",
       "      <td>2.950833</td>\n",
       "      <td>-6.066963</td>\n",
       "      <td>0.027144</td>\n",
       "      <td>-0.007722</td>\n",
       "      <td>-0.069968</td>\n",
       "      <td>0.018260</td>\n",
       "      <td>1.677244</td>\n",
       "      <td>8.514583</td>\n",
       "    </tr>\n",
       "  </tbody>\n",
       "</table>\n",
       "<p>4869 rows × 9 columns</p>\n",
       "</div>"
      ],
      "text/plain": [
       "      DELTA_poss_S2D  DELTA_ortg_S2D  DELTA_drtg_S2D  DELTA_eFG_S2D  \\\n",
       "8           1.560000      -21.535866        9.961797      -0.016809   \n",
       "16         -7.880000        0.736588       17.142577       0.001051   \n",
       "17          4.080000       -4.251119       -3.438613      -0.028736   \n",
       "18         -9.640000       19.817773       25.589292       0.115334   \n",
       "19         -1.140000       20.266283       17.204292       0.108927   \n",
       "...              ...             ...             ...            ...   \n",
       "4975       -1.471894        2.916886       -0.151672      -0.001563   \n",
       "4976        4.083871      -12.986278        7.289274      -0.044535   \n",
       "4977       -1.038710        3.862926        5.665742       0.018077   \n",
       "4978       -0.145462       -9.662786       -3.966993      -0.046681   \n",
       "4979        2.130667        2.950833       -6.066963       0.027144   \n",
       "\n",
       "      DELTA_tovr_S2D  DELTA_orb%_S2D  DELTA_ftr_S2D  DELTA_pace_S2D  \\\n",
       "8           0.027086       -0.082333      -0.279787        2.416529   \n",
       "16          0.055122        0.167442      -0.014010       -8.304937   \n",
       "17          0.071191        0.159091       0.080460        4.948086   \n",
       "18          0.040388        0.118338      -0.047672       -8.776529   \n",
       "19          0.025839        0.033613       0.087154       -1.545610   \n",
       "...              ...             ...            ...             ...   \n",
       "4975       -0.002128        0.041559       0.018097       -1.266775   \n",
       "4976        0.019895       -0.036212      -0.027972        4.740493   \n",
       "4977        0.004013        0.009336      -0.007807       -2.275476   \n",
       "4978        0.013828       -0.007342      -0.024566       -0.138199   \n",
       "4979       -0.007722       -0.069968       0.018260        1.677244   \n",
       "\n",
       "      DELTA_p_m_S2D  \n",
       "8        -31.000000  \n",
       "16       -18.000000  \n",
       "17         0.000000  \n",
       "18       -12.000000  \n",
       "19         5.000000  \n",
       "...             ...  \n",
       "4975       2.347538  \n",
       "4976     -21.096774  \n",
       "4977      -1.483871  \n",
       "4978      -6.082581  \n",
       "4979       8.514583  \n",
       "\n",
       "[4869 rows x 9 columns]"
      ]
     },
     "execution_count": 13,
     "metadata": {},
     "output_type": "execute_result"
    }
   ],
   "source": [
    "X_train"
   ]
  },
  {
   "cell_type": "code",
   "execution_count": 298,
   "id": "be3acc65-6f27-4174-a52b-49e9959fa62b",
   "metadata": {},
   "outputs": [],
   "source": [
    "%load_ext autoreload\n",
    "%autoreload 2"
   ]
  },
  {
   "cell_type": "code",
   "execution_count": null,
   "id": "4b3c2305-1d6f-495e-85bc-c640cac9620d",
   "metadata": {},
   "outputs": [],
   "source": []
  }
 ],
 "metadata": {
  "kernelspec": {
   "display_name": "Python 3 (ipykernel)",
   "language": "python",
   "name": "python3"
  },
  "language_info": {
   "codemirror_mode": {
    "name": "ipython",
    "version": 3
   },
   "file_extension": ".py",
   "mimetype": "text/x-python",
   "name": "python",
   "nbconvert_exporter": "python",
   "pygments_lexer": "ipython3",
   "version": "3.13.7"
  }
 },
 "nbformat": 4,
 "nbformat_minor": 5
}
